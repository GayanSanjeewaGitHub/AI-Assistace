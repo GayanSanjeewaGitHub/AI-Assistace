{
 "cells": [
  {
   "cell_type": "markdown",
   "metadata": {},
   "source": [
    "# <h1>Project Helpy</h1>"
   ]
  },
  {
   "cell_type": "code",
   "execution_count": 18,
   "metadata": {},
   "outputs": [],
   "source": [
    "import pyttsx3 #pip install pyttsx3  ---if you don't hav this\n",
    "import pyautogui # for take screen shots\n",
    "import os #default comming \n",
    "import wikipedia\n",
    "import smtplib #for email\n",
    "import psutil #for cpu and attery\n",
    "import pyjoke #for listen jokes\n",
    "\n",
    "engine=pyttsx3.init() # create a instance of engine\n",
    "genderHandler=engine.getProperty('voices')#this  man keep male as 1 and female as 0 by labeling them in a array\n",
    "engine.setProperty('voice',genderHandler[0].id)  #choose some one you like for the inside the engine to talk mic\n",
    "talking_speed=170 #how much word our guy read per minute\n",
    "engine.setProperty('rate',talking_speed)\n",
    "engine.say(\"Heloo Gayan\")\n",
    "engine.runAndWait() #start and wait say to wait\n"
   ]
  },
  {
   "cell_type": "markdown",
   "metadata": {},
   "source": [
    "# Function Calling"
   ]
  },
  {
   "cell_type": "code",
   "execution_count": null,
   "metadata": {},
   "outputs": [],
   "source": [
    "def readItForMe(text):\n",
    "    engine.say(text)\n",
    "    engine.runAndWait()"
   ]
  },
  {
   "cell_type": "code",
   "execution_count": null,
   "metadata": {},
   "outputs": [],
   "source": [
    "readItForMe(\"hello boys!!!\") #when it seea pulstop mark it wait little other wise can't understand helooooooo.. boys"
   ]
  },
  {
   "cell_type": "code",
   "execution_count": null,
   "metadata": {},
   "outputs": [],
   "source": [
    "import datetime # use pip install datetime\n"
   ]
  },
  {
   "cell_type": "code",
   "execution_count": null,
   "metadata": {},
   "outputs": [],
   "source": [
    "todayDate=datetime.datetime.now().strftime(\"%m/%d/%Y, %H:%M:%S\")\n",
    "print(\"date and time:\",todayDate)\t"
   ]
  },
  {
   "cell_type": "code",
   "execution_count": null,
   "metadata": {},
   "outputs": [],
   "source": [
    "readItForMe(todayDate) # hilarious to hear it so machanical :)"
   ]
  },
  {
   "cell_type": "markdown",
   "metadata": {},
   "source": [
    "# Using datetime library\n"
   ]
  },
  {
   "cell_type": "code",
   "execution_count": null,
   "metadata": {},
   "outputs": [],
   "source": [
    "currentYear=int(datetime.datetime.now().year)\n",
    "currentMonth=int(datetime.datetime.now().month)\n",
    "\n"
   ]
  },
  {
   "cell_type": "code",
   "execution_count": null,
   "metadata": {},
   "outputs": [],
   "source": [
    "print(currentMonth)\n",
    "print(currentYear)"
   ]
  },
  {
   "cell_type": "code",
   "execution_count": null,
   "metadata": {},
   "outputs": [],
   "source": [
    " hour=int(datetime.datetime.now().hour)\n",
    "print(hour) #comes in 24 manner"
   ]
  },
  {
   "cell_type": "code",
   "execution_count": null,
   "metadata": {},
   "outputs": [],
   "source": [
    "if hour >= 10:\n",
    "        readItForMe('good night')\n",
    "else:\n",
    "            readItForMe('good morning')"
   ]
  },
  {
   "cell_type": "markdown",
   "metadata": {},
   "source": [
    "# Speech recognition Starts"
   ]
  },
  {
   "cell_type": "code",
   "execution_count": null,
   "metadata": {},
   "outputs": [],
   "source": [
    "import speech_recognition as sr # when insatalling please  use--- pip install SpeechRecognition\n",
    "import pyaudio #first check your python version \n",
    "               #if it's jupyter notebook run  $ python --version         on anaconda navigator\n",
    "               #other wise from the command prompt just run    python --version\n",
    "               #it may be 3.8 or 3.9 or somthing like that \n",
    "               # go to the link and download required .whl file by lookinng version number and check you system *64 or *32 windows\n",
    "                #link ___>https://www.lfd.uci.edu/~gohlke/pythonlibs/#pyaudio\n",
    "                #link for stack overflow---->https://stackoverflow.com/questions/52283840/i-cant-install-pyaudio-on-windows-how-to-solve-error-microsoft-visual-c-14\n",
    "                #then try pip install PyAudio-0.2.11-cp37-cp37m-win_amd64.whl     this is pytho version 3.7 and dmd machine 'cp37'\n",
    "                #now hit(should e renamed according to your downloaded file name) ---->pip install PyAudio-0.2.11-cp37-cp37m-win_amd64.whl\n",
    "                \n",
    "                # if ay of those doesn't work check again\n",
    "                #pip install pipwin\n",
    "                #pip install pyaudio first method work always"
   ]
  },
  {
   "cell_type": "code",
   "execution_count": null,
   "metadata": {},
   "outputs": [],
   "source": [
    "import smtplib"
   ]
  },
  {
   "cell_type": "code",
   "execution_count": null,
   "metadata": {},
   "outputs": [],
   "source": [
    "def takeCommands():\n",
    "    recognizer=sr.Recognizer()\n",
    "    with   sr.Microphone() as source:\n",
    "      # print(\"ready to Listen\")\n",
    "       recognizer.pause_threshold=1\n",
    "       print(\"Listnening Start\")\n",
    "       gatheredAudio=recognizer.listen(source)\n",
    "        \n",
    "    try:\n",
    "       print(\"Recognizing through google\")\n",
    "       query=recognizer.recognize_google(gatheredAudio,language='en-in')\n",
    "      # readItForMe(query)    \n",
    "    except Exception as e:\n",
    "       print( e)\n",
    "       readItForMe('Please say that Again')\n",
    "    \n",
    "       return \"none\"\n",
    "    return query        \n",
    "    "
   ]
  },
  {
   "cell_type": "code",
   "execution_count": null,
   "metadata": {},
   "outputs": [],
   "source": [
    "def getCPU_usage():\n",
    "    cpu=str(psutil.cpu_present())\n",
    "    readItForMe(\"your cpu presentage is \"+ cpu)\n",
    "    readItForMe('attery presentage is'+ psutill.sensors_battery.percent)"
   ]
  },
  {
   "cell_type": "code",
   "execution_count": null,
   "metadata": {},
   "outputs": [],
   "source": [
    "takeCommands()\n"
   ]
  },
  {
   "cell_type": "code",
   "execution_count": null,
   "metadata": {},
   "outputs": [],
   "source": [
    "def sendEmail(email,mz):\n",
    "  server=smtplib.SMTP('smtp.google',587)\n",
    "  server.ehlo()#checking connection\n",
    "  server.start()#checking connection\n",
    "  server.login('test@gmail.com','mypassword')\n",
    "  server.sendmail(email,'to',mz)\n",
    "  server.close()\n",
    "  "
   ]
  },
  {
   "cell_type": "code",
   "execution_count": null,
   "metadata": {},
   "outputs": [],
   "source": [
    " def screen_shot():\n",
    "        ss=pyautogui.screenshot()\n",
    "        ss.save(ss.png)"
   ]
  },
  {
   "cell_type": "code",
   "execution_count": null,
   "metadata": {},
   "outputs": [],
   "source": [
    "def  giveMeAJoke():\n",
    "    joke=pyjoke.get_joke\n",
    "    readItForMe(joke)\n",
    "    "
   ]
  },
  {
   "cell_type": "code",
   "execution_count": null,
   "metadata": {},
   "outputs": [],
   "source": [
    "if __name__ ==\"__main__\":\n",
    "  while True :\n",
    "        query= takeCommands()\n",
    "       # if 'time' in query:\n",
    "       #     readItForMe(query)\n",
    "       # elif 'day'  in query:\n",
    "       #     readItForMe(query)\n",
    "       # elif  'go offline' in query:\n",
    "       #     readItForMe('Going offline')\n",
    "        if 'wikipedia' in query:\n",
    "            readItForMe('Searching')\n",
    "            query=query.replace('wikipedia','python')\n",
    "            result=wikipedia.summary(query,sentences=2)\n",
    "            readItForMe(result)\n",
    "        elif 'send Email' in query:\n",
    "             readItForMe('what\\'s the message  ')\n",
    "             message_query= takeCommands()\n",
    "             try :\n",
    "              sendEmail('receivergmail.com',message_query)\n",
    "              readItForMe(\"Email sent\")\n",
    "             except Exception as e:\n",
    "              readItForMe(\"try again\")\n",
    "        elif 'logout' in query:\n",
    "            os.system(\"shutdown -1\");\n",
    "        elif 'restart' in query:\n",
    "            os.system(\"shutdown /r /t 1\");\n",
    "        elif 'shutdown' in query:\n",
    "            os.system(\"shutdown /s /t 1\");\n",
    "        elif 'play songs' in query:\n",
    "            songs_dir='C:\\Users\\GAYAN SANJEEWA\\Music\\Playlists\\Music'\n",
    "            songarray=os.listdir(sogs_dir)\n",
    "            os.startfile(os.path.join(songs_dir,songarray[0]))\n",
    "        elif 'keep remember' in query:\n",
    "            readItForMe('what should i remember')\n",
    "            data=takeCommand()\n",
    "            readItForMe('i remember' +data)\n",
    "            assistenceNotebook=open('booklet.txt','w')#  w for write\n",
    "            assistenceNotebook.write(data)\n",
    "            assistenceNotebook.close()\n",
    "        elif 'pending notes' in query:\n",
    "            assistenceNotbook=open('booklet.txt','r')\n",
    "            readItForMe('Screen Captured')('you asked me to remember that' + assistenceNotebook.read())\n",
    "        elif 'take screenshot ' in query:\n",
    "            screen_shot()\n",
    "            readItForMe('Screen Captured')\n",
    "        elif 'cpu' in query :\n",
    "            getCPU_usage()\n",
    "            "
   ]
  }
 ],
 "metadata": {
  "kernelspec": {
   "display_name": "Python 3",
   "language": "python",
   "name": "python3"
  },
  "language_info": {
   "codemirror_mode": {
    "name": "ipython",
    "version": 3
   },
   "file_extension": ".py",
   "mimetype": "text/x-python",
   "name": "python",
   "nbconvert_exporter": "python",
   "pygments_lexer": "ipython3",
   "version": "3.8.3"
  }
 },
 "nbformat": 4,
 "nbformat_minor": 4
}
